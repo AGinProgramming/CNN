{
 "cells": [
  {
   "cell_type": "markdown",
   "metadata": {},
   "source": [
    "## Installing Python\n",
    "First we install Conda\n",
    "* Install and manage packages\n",
    "* Comes with all most wedely used Python packages for computer science\n",
    "* Manage environments\n",
    "\n",
    "* Download the Anaconda installer from https://www.anaconda.com/download/.\n",
    "\n",
    "There are two main versions of Python, 2.x and 3.x. Since Python 2.x is no longer actively updated so we will use Python 3.7. Additionally, pytorch is not supported in Python 2.x\n",
    "\n",
    "* Install anaconda using the standard settings\n",
    "\n",
    "## Installing Pytorch and Torchvision\n",
    "We will be using Pytorch and Torchvision as our main deep learning libraries. More details about the installation can be found from https://pytorch.org/get-started/locally/\n",
    "\n",
    "* Start up _Anaconda prompt_\n",
    "* Run this command: _conda install pytorch-cpu torchvision-cpu -c pytorch_\n",
    "\n",
    "\n",
    "## Jupyter notebook\n",
    "\n",
    "All tutorials will be performed in Jupyter notebooks, a very handy tool for data science projects.\n",
    "* Start up _Anaconda prompt_\n",
    "* Navigate to your working directory using command, cd _path/to/dir_\n",
    "* Start a Jupyter notebook kernel with the command, _jupyter notebook_\n",
    "\n",
    "## Pytorch vs Tensorflow\n",
    "|               | Pytorch               | Tensorflow           |\n",
    "|---            | -------------         |:-------------:       |\n",
    "| Adoption      | Relatively new        | go-to tool |\n",
    "| DAG structure | Dynamic graphs        | Define graph beforehand |\n",
    "| Debugging     | Easy                  | Difficult      |\n",
    "| Visualization | Tensorboard           | Tensorboard    |\n",
    "| Deployment    | Difficult (Easier in 1.0)            | Easy           |\n",
    "| Data Parallellism| Magic!             | requires careful thought |\n",
    "| Syntax           | Pythonic           | learning curve |\n"
   ]
  }
 ],
 "metadata": {
  "kernelspec": {
   "display_name": "Python 3",
   "language": "python",
   "name": "python3"
  },
  "language_info": {
   "codemirror_mode": {
    "name": "ipython",
    "version": 3
   },
   "file_extension": ".py",
   "mimetype": "text/x-python",
   "name": "python",
   "nbconvert_exporter": "python",
   "pygments_lexer": "ipython3",
   "version": "3.6.4"
  }
 },
 "nbformat": 4,
 "nbformat_minor": 2
}
